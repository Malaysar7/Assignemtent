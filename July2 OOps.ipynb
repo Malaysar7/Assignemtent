{
 "cells": [
  {
   "cell_type": "code",
   "execution_count": 1,
   "id": "684f949e",
   "metadata": {},
   "outputs": [
    {
     "name": "stdout",
     "output_type": "stream",
     "text": [
      "Buddy barks\n",
      "Whiskers meows\n"
     ]
    }
   ],
   "source": [
    "class Animal:\n",
    "    def __init__(self, name):\n",
    "        self.name = name\n",
    "    \n",
    "    def speak(self):\n",
    "        pass  # Abstract method\n",
    "    \n",
    "class Dog(Animal):\n",
    "    def speak(self):\n",
    "        return f\"{self.name} barks\"\n",
    "\n",
    "class Cat(Animal):\n",
    "    def speak(self):\n",
    "        return f\"{self.name} meows\"\n",
    "\n",
    "dog = Dog(\"Buddy\")\n",
    "cat = Cat(\"Whiskers\")\n",
    "\n",
    "print(dog.speak())  # Output: Buddy barks\n",
    "print(cat.speak())  # Output: Whiskers meows\n"
   ]
  },
  {
   "cell_type": "code",
   "execution_count": 2,
   "id": "a6986d24",
   "metadata": {},
   "outputs": [
    {
     "name": "stdout",
     "output_type": "stream",
     "text": [
      "Circle Area: 78.53975\n",
      "Rectangle Area: 24\n"
     ]
    }
   ],
   "source": [
    "class Shape:  # Base class\n",
    "    def area(self):\n",
    "        pass  # Abstract method\n",
    "\n",
    "class Circle(Shape):  # Derived class\n",
    "    def __init__(self, radius):\n",
    "        self.radius = radius\n",
    "\n",
    "    def area(self):\n",
    "        return 3.14159 * self.radius ** 2\n",
    "\n",
    "class Rectangle(Shape):  # Derived class\n",
    "    def __init__(self, width, height):\n",
    "        self.width = width\n",
    "        self.height = height\n",
    "\n",
    "    def area(self):\n",
    "        return self.width * self.height\n",
    "\n",
    "circle = Circle(5)\n",
    "rectangle = Rectangle(4, 6)\n",
    "\n",
    "print(\"Circle Area:\", circle.area())  # Output: Circle Area: 78.53975\n",
    "print(\"Rectangle Area:\", rectangle.area())  # Output: Rectangle Area: 24\n",
    "\n"
   ]
  },
  {
   "cell_type": "code",
   "execution_count": 3,
   "id": "ca6c6a1e",
   "metadata": {},
   "outputs": [
    {
     "name": "stdout",
     "output_type": "stream",
     "text": [
      "10\n",
      "This is a protected method.\n"
     ]
    }
   ],
   "source": [
    "class Parent:\n",
    "    def __init__(self):\n",
    "        self._protected_attribute = 10\n",
    "    \n",
    "    def _protected_method(self):\n",
    "        return \"This is a protected method.\"\n",
    "\n",
    "class Child(Parent):\n",
    "    def __init__(self):\n",
    "        super().__init__()\n",
    "    \n",
    "    def use_protected(self):\n",
    "        print(self._protected_attribute)\n",
    "        print(self._protected_method())\n",
    "\n",
    "child = Child()\n",
    "child.use_protected()\n"
   ]
  },
  {
   "cell_type": "code",
   "execution_count": 4,
   "id": "71abf303",
   "metadata": {},
   "outputs": [
    {
     "name": "stdout",
     "output_type": "stream",
     "text": [
      "2022 Toyota Camry\n",
      "2023 Honda Civic, Fuel Type: Gasoline\n"
     ]
    }
   ],
   "source": [
    "class Vehicle:\n",
    "    def __init__(self, make, model, year):\n",
    "        self.make = make\n",
    "        self.model = model\n",
    "        self.year = year\n",
    "    \n",
    "    def display_info(self):\n",
    "        return f\"{self.year} {self.make} {self.model}\"\n",
    "\n",
    "class Car(Vehicle):\n",
    "    def __init__(self, make, model, year, fuel_type):\n",
    "        super().__init__(make, model, year)\n",
    "        self.fuel_type = fuel_type\n",
    "    \n",
    "    def display_info(self):\n",
    "        vehicle_info = super().display_info()\n",
    "        return f\"{vehicle_info}, Fuel Type: {self.fuel_type}\"\n",
    "\n",
    "# Example usage\n",
    "vehicle = Vehicle(\"Toyota\", \"Camry\", 2022)\n",
    "car = Car(\"Honda\", \"Civic\", 2023, \"Gasoline\")\n",
    "\n",
    "print(vehicle.display_info())  # Output: 2022 Toyota Camry\n",
    "print(car.display_info())      # Output: 2023 Honda Civic, Fuel Type: Gasoline\n"
   ]
  },
  {
   "cell_type": "code",
   "execution_count": 5,
   "id": "aea3b115",
   "metadata": {},
   "outputs": [
    {
     "name": "stdout",
     "output_type": "stream",
     "text": [
      "Name: John Smith, Salary: $60000.00\n",
      "Name: Alice Johnson, Salary: $80000.00, Department: Sales\n",
      "Name: Bob Thompson, Salary: $70000.00, Programming Language: Python\n"
     ]
    }
   ],
   "source": [
    "class Employee:\n",
    "    def __init__(self, name, salary):\n",
    "        self.name = name\n",
    "        self.salary = salary\n",
    "    \n",
    "    def display_info(self):\n",
    "        return f\"Name: {self.name}, Salary: ${self.salary:.2f}\"\n",
    "\n",
    "class Manager(Employee):\n",
    "    def __init__(self, name, salary, department):\n",
    "        super().__init__(name, salary)\n",
    "        self.department = department\n",
    "    \n",
    "    def display_info(self):\n",
    "        emp_info = super().display_info()\n",
    "        return f\"{emp_info}, Department: {self.department}\"\n",
    "\n",
    "class Developer(Employee):\n",
    "    def __init__(self, name, salary, programming_language):\n",
    "        super().__init__(name, salary)\n",
    "        self.programming_language = programming_language\n",
    "    \n",
    "    def display_info(self):\n",
    "        emp_info = super().display_info()\n",
    "        return f\"{emp_info}, Programming Language: {self.programming_language}\"\n",
    "\n",
    "# Example usage\n",
    "employee = Employee(\"John Smith\", 60000)\n",
    "manager = Manager(\"Alice Johnson\", 80000, \"Sales\")\n",
    "developer = Developer(\"Bob Thompson\", 70000, \"Python\")\n",
    "\n",
    "print(employee.display_info())  # Output: Name: John Smith, Salary: $60000.00\n",
    "print(manager.display_info())   # Output: Name: Alice Johnson, Salary: $80000.00, Department: Sales\n",
    "print(developer.display_info()) # Output: Name: Bob Thompson, Salary: $70000.00, Programming Language: Python\n"
   ]
  },
  {
   "cell_type": "code",
   "execution_count": 6,
   "id": "f444fbea",
   "metadata": {},
   "outputs": [
    {
     "name": "stdout",
     "output_type": "stream",
     "text": [
      "Colour: Blue, Border Width: 2 units\n",
      "Colour: Red, Border Width: 1 units, Length: 5 units, Width: 3 units\n",
      "Colour: Green, Border Width: 1 units, Radius: 4 units\n"
     ]
    }
   ],
   "source": [
    "class Shape:\n",
    "    def __init__(self, colour, border_width):\n",
    "        self.colour = colour\n",
    "        self.border_width = border_width\n",
    "    \n",
    "    def display_info(self):\n",
    "        return f\"Colour: {self.colour}, Border Width: {self.border_width} units\"\n",
    "\n",
    "class Rectangle(Shape):\n",
    "    def __init__(self, colour, border_width, length, width):\n",
    "        super().__init__(colour, border_width)\n",
    "        self.length = length\n",
    "        self.width = width\n",
    "    \n",
    "    def display_info(self):\n",
    "        shape_info = super().display_info()\n",
    "        return f\"{shape_info}, Length: {self.length} units, Width: {self.width} units\"\n",
    "\n",
    "class Circle(Shape):\n",
    "    def __init__(self, colour, border_width, radius):\n",
    "        super().__init__(colour, border_width)\n",
    "        self.radius = radius\n",
    "    \n",
    "    def display_info(self):\n",
    "        shape_info = super().display_info()\n",
    "        return f\"{shape_info}, Radius: {self.radius} units\"\n",
    "\n",
    "# Example usage\n",
    "shape = Shape(\"Blue\", 2)\n",
    "rectangle = Rectangle(\"Red\", 1, 5, 3)\n",
    "circle = Circle(\"Green\", 1, 4)\n",
    "\n",
    "print(shape.display_info())     # Output: Colour: Blue, Border Width: 2 units\n",
    "print(rectangle.display_info()) # Output: Colour: Red, Border Width: 1 units, Length: 5 units, Width: 3 units\n",
    "print(circle.display_info())    # Output: Colour: Green, Border Width: 1 units, Radius: 4 units\n",
    "\n",
    "\n"
   ]
  },
  {
   "cell_type": "code",
   "execution_count": 7,
   "id": "6ddd9fc1",
   "metadata": {},
   "outputs": [
    {
     "name": "stdout",
     "output_type": "stream",
     "text": [
      "Brand: Samsung, Model: Galaxy S21\n",
      "Brand: Apple, Model: iPhone 12, Screen Size: 6.1 inches\n",
      "Brand: Amazon, Model: Fire HD 10, Battery Capacity: 6000 mAh\n"
     ]
    }
   ],
   "source": [
    "class Device:\n",
    "    def __init__(self, brand, model):\n",
    "        self.brand = brand\n",
    "        self.model = model\n",
    "    \n",
    "    def display_info(self):\n",
    "        return f\"Brand: {self.brand}, Model: {self.model}\"\n",
    "\n",
    "class Phone(Device):\n",
    "    def __init__(self, brand, model, screen_size):\n",
    "        super().__init__(brand, model)\n",
    "        self.screen_size = screen_size\n",
    "    \n",
    "    def display_info(self):\n",
    "        device_info = super().display_info()\n",
    "        return f\"{device_info}, Screen Size: {self.screen_size}\"\n",
    "\n",
    "class Tablet(Device):\n",
    "    def __init__(self, brand, model, battery_capacity):\n",
    "        super().__init__(brand, model)\n",
    "        self.battery_capacity = battery_capacity\n",
    "    \n",
    "    def display_info(self):\n",
    "        device_info = super().display_info()\n",
    "        return f\"{device_info}, Battery Capacity: {self.battery_capacity}\"\n",
    "\n",
    "# Example usage\n",
    "device = Device(\"Samsung\", \"Galaxy S21\")\n",
    "phone = Phone(\"Apple\", \"iPhone 12\", \"6.1 inches\")\n",
    "tablet = Tablet(\"Amazon\", \"Fire HD 10\", \"6000 mAh\")\n",
    "\n",
    "print(device.display_info()) # Output: Brand: Samsung, Model: Galaxy S21\n",
    "print(phone.display_info())  # Output: Brand: Apple, Model: iPhone 12, Screen Size: 6.1 inches\n",
    "print(tablet.display_info()) # Output: Brand: Amazon, Model: Fire HD 10, Battery Capacity: 6000 mAh\n"
   ]
  },
  {
   "cell_type": "code",
   "execution_count": 8,
   "id": "9b553384",
   "metadata": {},
   "outputs": [
    {
     "name": "stdout",
     "output_type": "stream",
     "text": [
      "Account Number: 123456, Balance: $1000.00\n",
      "Account Number: 987654, Balance: $500.00\n",
      "Interest earned: $25.00\n",
      "Fees deducted: $3.00\n",
      "Account Number: 123456, Balance: $1025.00\n",
      "Account Number: 987654, Balance: $497.00\n"
     ]
    }
   ],
   "source": [
    "class BankAccount:\n",
    "    def __init__(self, account_number, balance):\n",
    "        self.account_number = account_number\n",
    "        self.balance = balance\n",
    "    \n",
    "    def display_info(self):\n",
    "        return f\"Account Number: {self.account_number}, Balance: ${self.balance:.2f}\"\n",
    "\n",
    "class SavingsAccount(BankAccount):\n",
    "    def __init__(self, account_number, balance, interest_rate):\n",
    "        super().__init__(account_number, balance)\n",
    "        self.interest_rate = interest_rate\n",
    "    \n",
    "    def calculate_interest(self):\n",
    "        interest = self.balance * (self.interest_rate / 100)\n",
    "        self.balance += interest\n",
    "        return interest\n",
    "\n",
    "class CheckingAccount(BankAccount):\n",
    "    def __init__(self, account_number, balance, fee_per_transaction):\n",
    "        super().__init__(account_number, balance)\n",
    "        self.fee_per_transaction = fee_per_transaction\n",
    "    \n",
    "    def deduct_fees(self, num_transactions):\n",
    "        total_fees = self.fee_per_transaction * num_transactions\n",
    "        self.balance -= total_fees\n",
    "        return total_fees\n",
    "\n",
    "# Example usage\n",
    "savings_account = SavingsAccount(\"123456\", 1000.0, 2.5)\n",
    "checking_account = CheckingAccount(\"987654\", 500.0, 1.0)\n",
    "\n",
    "print(savings_account.display_info())  # Output: Account Number: 123456, Balance: $1000.00\n",
    "print(checking_account.display_info()) # Output: Account Number: 987654, Balance: $500.00\n",
    "\n",
    "interest = savings_account.calculate_interest()\n",
    "print(f\"Interest earned: ${interest:.2f}\") # Example Output: Interest earned: $25.00\n",
    "\n",
    "fees = checking_account.deduct_fees(3)\n",
    "print(f\"Fees deducted: ${fees:.2f}\") # Example Output: Fees deducted: $3.00\n",
    "\n",
    "print(savings_account.display_info())  # Output: Account Number: 123456, Balance: $1025.00\n",
    "print(checking_account.display_info()) # Output: Account Number: 987654, Balance: $497.00\n",
    "\n"
   ]
  },
  {
   "cell_type": "code",
   "execution_count": 9,
   "id": "237a442d",
   "metadata": {},
   "outputs": [
    {
     "name": "stdout",
     "output_type": "stream",
     "text": [
      "Woof!\n",
      "Meow!\n",
      "Squawk!\n",
      "Squawk! Hola! Bonjour!\n"
     ]
    }
   ],
   "source": [
    "class Animal:\n",
    "    def speak(self):\n",
    "        return \"Some generic sound\"\n",
    "\n",
    "class Dog(Animal):\n",
    "    def speak(self):\n",
    "        return \"Woof!\"\n",
    "\n",
    "class Cat(Animal):\n",
    "    def speak(self):\n",
    "        return \"Meow!\"\n",
    "\n",
    "class Parrot(Animal):\n",
    "    def speak(self):\n",
    "        return \"Squawk!\"\n",
    "\n",
    "class MultilingualParrot(Parrot):\n",
    "    def speak(self):\n",
    "        parrot_sound = super().speak()  # Call the speak() method of the parent class (Parrot)\n",
    "        return f\"{parrot_sound} Hola! Bonjour!\"\n",
    "\n",
    "# Example usage\n",
    "dog = Dog()\n",
    "cat = Cat()\n",
    "parrot = Parrot()\n",
    "multi_parrot = MultilingualParrot()\n",
    "\n",
    "print(dog.speak())  # Output: Woof!\n",
    "print(cat.speak())  # Output: Meow!\n",
    "print(parrot.speak())  # Output: Squawk!\n",
    "print(multi_parrot.speak())  # Output: Squawk! Hola! Bonjour!\n"
   ]
  },
  {
   "cell_type": "code",
   "execution_count": null,
   "id": "dfb0fb9a",
   "metadata": {},
   "outputs": [],
   "source": []
  }
 ],
 "metadata": {
  "kernelspec": {
   "display_name": "Python 3 (ipykernel)",
   "language": "python",
   "name": "python3"
  },
  "language_info": {
   "codemirror_mode": {
    "name": "ipython",
    "version": 3
   },
   "file_extension": ".py",
   "mimetype": "text/x-python",
   "name": "python",
   "nbconvert_exporter": "python",
   "pygments_lexer": "ipython3",
   "version": "3.10.9"
  }
 },
 "nbformat": 4,
 "nbformat_minor": 5
}
